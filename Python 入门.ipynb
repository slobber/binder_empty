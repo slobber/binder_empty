{
 "cells": [
  {
   "cell_type": "markdown",
   "metadata": {},
   "source": [
    "## Python 入门"
   ]
  },
  {
   "cell_type": "markdown",
   "metadata": {},
   "source": [
    "### 最最简单的 Python 程序"
   ]
  },
  {
   "cell_type": "code",
   "execution_count": 3,
   "metadata": {},
   "outputs": [
    {
     "name": "stdout",
     "output_type": "stream",
     "text": [
      "Hello World!\n"
     ]
    }
   ],
   "source": [
    "print(\"Hello World!\")"
   ]
  },
  {
   "cell_type": "markdown",
   "metadata": {},
   "source": [
    "print: 一个输出函数，可以输出一段文本内容到输出设备。\n",
    "\n",
    "函数：完成特定功能的一段代码，可以通过一个名字调用运行这段代码，同时函数接受零个或多个参数放到内部的代码中参与运行。print函数可以接收一个文本参数，把文本显示出来。函数的基本格式就是 `函数名(参数)`。\n",
    "\n",
    "输出设备：可以是文件、网页、命令行等一切可以查看的东西，这里就是当前的网页了。\n",
    "\n",
    "文本：又称为字符串，或者说标准说法叫字符串，在 Python 中就是用引号括起来的各种文字内容。"
   ]
  },
  {
   "cell_type": "code",
   "execution_count": 4,
   "metadata": {},
   "outputs": [],
   "source": [
    "# 在这个框里试一下 print 吧，比如：`print('我是你大爷')`，`print(\"10\")`\n",
    "\n"
   ]
  }
 ],
 "metadata": {
  "kernelspec": {
   "display_name": "Python 3",
   "language": "python",
   "name": "python3"
  },
  "language_info": {
   "codemirror_mode": {
    "name": "ipython",
    "version": 3
   },
   "file_extension": ".py",
   "mimetype": "text/x-python",
   "name": "python",
   "nbconvert_exporter": "python",
   "pygments_lexer": "ipython3",
   "version": "3.6.7"
  }
 },
 "nbformat": 4,
 "nbformat_minor": 1
}
